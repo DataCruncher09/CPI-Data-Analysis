{
 "cells": [
  {
   "cell_type": "code",
   "execution_count": 42,
   "id": "e114c027",
   "metadata": {
    "scrolled": true
   },
   "outputs": [
    {
     "data": {
      "text/html": [
       "<div>\n",
       "<style scoped>\n",
       "    .dataframe tbody tr th:only-of-type {\n",
       "        vertical-align: middle;\n",
       "    }\n",
       "\n",
       "    .dataframe tbody tr th {\n",
       "        vertical-align: top;\n",
       "    }\n",
       "\n",
       "    .dataframe thead th {\n",
       "        text-align: right;\n",
       "    }\n",
       "</style>\n",
       "<table border=\"1\" class=\"dataframe\">\n",
       "  <thead>\n",
       "    <tr style=\"text-align: right;\">\n",
       "      <th></th>\n",
       "      <th>series_id</th>\n",
       "      <th>area_code</th>\n",
       "      <th>item_code</th>\n",
       "      <th>series_title</th>\n",
       "      <th>footnote_codes</th>\n",
       "      <th>begin_year</th>\n",
       "      <th>begin_period</th>\n",
       "      <th>end_year</th>\n",
       "      <th>end_period</th>\n",
       "      <th>area_name</th>\n",
       "      <th>year</th>\n",
       "      <th>period</th>\n",
       "      <th>value</th>\n",
       "    </tr>\n",
       "  </thead>\n",
       "  <tbody>\n",
       "  </tbody>\n",
       "</table>\n",
       "</div>"
      ],
      "text/plain": [
       "Empty DataFrame\n",
       "Columns: [series_id, area_code, item_code, series_title, footnote_codes, begin_year, begin_period, end_year, end_period, area_name, year, period, value]\n",
       "Index: []"
      ]
     },
     "execution_count": 42,
     "metadata": {},
     "output_type": "execute_result"
    }
   ],
   "source": [
    "import pandas as pd\n",
    "\n",
    "Areas = pd.read_csv('Areas.csv', sep='\\t')\n",
    "Current = pd.read_csv('Current_Data.csv', sep='\\t')\n",
    "Items = pd.read_csv('Items.csv', sep='\\t')\n",
    "Periods = pd.read_csv('Period_Names.csv', sep='\\t')\n",
    "Series = pd.read_csv('Series.csv', sep='\\t')\n",
    "\n",
    "# NOTE: There are 335 rows of data for every item representing every change in month and year till 2022/Whenever someone is reading this\n",
    "\n",
    "# I cleaned the data and made the appropriate merges (there is WHITESPACE ** Make Sure To Clean Whitespace) **\n",
    "\n",
    "complete_df = pd.merge(Series, Areas, on='area_code').merge(Current)\n",
    "complete_df = complete_df.rename(columns = {'series_id        ': 'series_id', '       value': 'value'})\n",
    "\n",
    "complete_df['series_id'] = complete_df['series_id'].str.strip()\n",
    "complete_df['value'] = complete_df['value'].str.strip()\n",
    "\n",
    "\n",
    "\n",
    "\n",
    "\n",
    "\n",
    "\n",
    "\n",
    "\n",
    "\n",
    "\n",
    "\n",
    "\n",
    "\n",
    "\n",
    "\n",
    "\n",
    "# I am writing a function to calculate CPI\n",
    "\n",
    "#def cpiCalc(base_year, base_month, code, current_year, current_month, code2):\n",
    "    #base_time = complete_df[(complete_df.year == base_year) & (complete_df.period == base_month) & (complete_df['series_id'] == code)]\n",
    "    #current_time = complete_df[(complete_df.year == current_year) & (complete_df.period == current_month) & (complete_df['series_id'] == code2)]\n",
    "    #base_year_value = base_time.value\n",
    "    #current_time_value = current_time.value\n",
    "    #return base_year_value\n",
    "\n",
    "\n",
    "\n",
    "\n",
    "\n",
    "\n"
   ]
  },
  {
   "cell_type": "code",
   "execution_count": null,
   "id": "589b30cd",
   "metadata": {},
   "outputs": [],
   "source": []
  },
  {
   "cell_type": "code",
   "execution_count": null,
   "id": "20ae7cde",
   "metadata": {},
   "outputs": [],
   "source": []
  },
  {
   "cell_type": "code",
   "execution_count": null,
   "id": "412064fb",
   "metadata": {},
   "outputs": [],
   "source": []
  }
 ],
 "metadata": {
  "kernelspec": {
   "display_name": "Python 3",
   "language": "python",
   "name": "python3"
  },
  "language_info": {
   "codemirror_mode": {
    "name": "ipython",
    "version": 3
   },
   "file_extension": ".py",
   "mimetype": "text/x-python",
   "name": "python",
   "nbconvert_exporter": "python",
   "pygments_lexer": "ipython3",
   "version": "3.8.8"
  }
 },
 "nbformat": 4,
 "nbformat_minor": 5
}
